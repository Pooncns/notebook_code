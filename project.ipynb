{
 "cells": [
  {
   "cell_type": "markdown",
   "id": "510426b6",
   "metadata": {},
   "source": [
    "![method](method1.jpeg)"
   ]
  },
  {
   "cell_type": "code",
   "execution_count": 10,
   "id": "786b8a84",
   "metadata": {},
   "outputs": [],
   "source": [
    "import math\n",
    "def mosteller(weight,height):\n",
    "    return ((weight * height)**(1/2))/60\n",
    "\n",
    "def haycock(weight,height):\n",
    "    return 0.024265 * (weight**0.5378) * (height**0.3964)\n",
    "\n",
    "def boyd(weight,height):\n",
    "    num_log = math.log(weight,10)\n",
    "    return 0.0333*(weight**(0.6157-(0.0188*num_log)))*(height**0.3)"
   ]
  },
  {
   "cell_type": "code",
   "execution_count": 12,
   "id": "b04406be",
   "metadata": {},
   "outputs": [
    {
     "name": "stdout",
     "output_type": "stream",
     "text": [
      "Mosteller : 1.6210421887717104\n",
      "Haycock : 1.6110567038596122\n",
      "Boyd : 1.6132492223411619\n"
     ]
    }
   ],
   "source": [
    "weight = int(input('น้ำหนัก(kg): '))\n",
    "height = int(input('ความสูง(cm): '))\n",
    "print(f\"Mosteller : {mosteller(weight,height)}\")\n",
    "print(f\"Haycock : {haycock(weight,height)}\")\n",
    "print(f\"Boyd : {boyd(weight,height)}\")"
   ]
  },
  {
   "cell_type": "markdown",
   "id": "a26006fc",
   "metadata": {},
   "source": [
    "ค่าเฉลี่ย ค่ามัธยฐาน ค่าฐานนิยม"
   ]
  },
  {
   "cell_type": "code",
   "execution_count": null,
   "id": "64289f8a",
   "metadata": {},
   "outputs": [],
   "source": [
    "list_number = list(map(float, input(\"INPUT NUMBER ex(1 2 3 4 5): \").split()))\n",
    "list_number.sort()\n"
   ]
  },
  {
   "cell_type": "code",
   "execution_count": 8,
   "id": "8f2b2bb4",
   "metadata": {},
   "outputs": [],
   "source": [
    "def average (list_number):\n",
    "    total_number = sum(list_number)\n",
    "    loop = len(list_number)\n",
    "    return total_number / loop"
   ]
  },
  {
   "cell_type": "code",
   "execution_count": 9,
   "id": "c3252cf3",
   "metadata": {},
   "outputs": [
    {
     "name": "stdout",
     "output_type": "stream",
     "text": [
      "Avrage : 5.833333333333333\n"
     ]
    }
   ],
   "source": [
    "print(f\"Avrage : {average(list_number)}\")"
   ]
  }
 ],
 "metadata": {
  "kernelspec": {
   "display_name": "3.10",
   "language": "python",
   "name": "python3"
  },
  "language_info": {
   "codemirror_mode": {
    "name": "ipython",
    "version": 3
   },
   "file_extension": ".py",
   "mimetype": "text/x-python",
   "name": "python",
   "nbconvert_exporter": "python",
   "pygments_lexer": "ipython3",
   "version": "3.10.16"
  }
 },
 "nbformat": 4,
 "nbformat_minor": 5
}
