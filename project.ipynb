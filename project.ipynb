{
 "cells": [
  {
   "cell_type": "markdown",
   "id": "510426b6",
   "metadata": {},
   "source": [
    "![method](method1.jpeg)"
   ]
  },
  {
   "cell_type": "code",
   "execution_count": 10,
   "id": "786b8a84",
   "metadata": {},
   "outputs": [],
   "source": [
    "import math\n",
    "def mosteller(weight,height):\n",
    "    return ((weight * height)**(1/2))/60\n",
    "\n",
    "def haycock(weight,height):\n",
    "    return 0.024265 * (weight**0.5378) * (height**0.3964)\n",
    "\n",
    "def boyd(weight,height):\n",
    "    num_log = math.log(weight,10)\n",
    "    return 0.0333*(weight**(0.6157-(0.0188*num_log)))*(height**0.3)"
   ]
  },
  {
   "cell_type": "code",
   "execution_count": 12,
   "id": "b04406be",
   "metadata": {},
   "outputs": [
    {
     "name": "stdout",
     "output_type": "stream",
     "text": [
      "Mosteller : 1.6210421887717104\n",
      "Haycock : 1.6110567038596122\n",
      "Boyd : 1.6132492223411619\n"
     ]
    }
   ],
   "source": [
    "weight = int(input('น้ำหนัก(kg): '))\n",
    "height = int(input('ความสูง(cm): '))\n",
    "print(f\"Mosteller : {mosteller(weight,height)}\")\n",
    "print(f\"Haycock : {haycock(weight,height)}\")\n",
    "print(f\"Boyd : {boyd(weight,height)}\")"
   ]
  },
  {
   "cell_type": "markdown",
   "id": "a26006fc",
   "metadata": {},
   "source": [
    "Mean and Median"
   ]
  },
  {
   "cell_type": "code",
   "execution_count": 59,
   "id": "8f2b2bb4",
   "metadata": {},
   "outputs": [],
   "source": [
    "def mean (list_number,number_of_numbers):\n",
    "    total_number = sum(list_number)\n",
    "    return total_number / number_of_numbers"
   ]
  },
  {
   "cell_type": "code",
   "execution_count": 60,
   "id": "fdafd5fa",
   "metadata": {},
   "outputs": [],
   "source": [
    "def median (list_number,number_of_numbers):\n",
    "    the_middle = float(number_of_numbers/2)\n",
    "    if the_middle != int(the_middle):\n",
    "        answer = list_number[int(the_middle)]\n",
    "    else:\n",
    "        num1 = list_number[int(the_middle) - 1]\n",
    "        num2 = list_number[int(the_middle)]\n",
    "        answer = (num1 + num2)/2\n",
    "\n",
    "    return answer"
   ]
  },
  {
   "cell_type": "code",
   "execution_count": 62,
   "id": "64289f8a",
   "metadata": {},
   "outputs": [
    {
     "name": "stdout",
     "output_type": "stream",
     "text": [
      "Mean : 24.0\n",
      "Median : 16.0\n"
     ]
    }
   ],
   "source": [
    "list_number = list(map(float, input(\"INPUT NUMBER ex(1 2 3 4 5): \").split()))\n",
    "list_number.sort()\n",
    "number_of_numbers = len(list_number)\n",
    "print(f\"Mean : {mean(list_number,number_of_numbers)}\")\n",
    "print(f\"Median : {median(list_number,number_of_numbers)}\")"
   ]
  },
  {
   "cell_type": "markdown",
   "id": "95a12f42",
   "metadata": {},
   "source": [
    "![method](method3.jpeg)"
   ]
  },
  {
   "cell_type": "code",
   "execution_count": 73,
   "id": "1724b315",
   "metadata": {},
   "outputs": [
    {
     "name": "stdout",
     "output_type": "stream",
     "text": [
      "--------1\n",
      "-------12\n",
      "------123\n",
      "-----1234\n",
      "----12345\n",
      "---123456\n",
      "--1234567\n",
      "-12345678\n",
      "123456789\n"
     ]
    }
   ],
   "source": [
    "num = int(input(\"NUM : \"))\n",
    "for a in range(num-1,-1,-1):\n",
    "    print('-'*a,end='')\n",
    "    for b in range(1,num+1-a):\n",
    "        print(b,end='')\n",
    "    print('')"
   ]
  },
  {
   "cell_type": "markdown",
   "id": "074db57c",
   "metadata": {},
   "source": [
    "![method](method4.jpeg)"
   ]
  },
  {
   "cell_type": "code",
   "execution_count": 75,
   "id": "66b829e6",
   "metadata": {},
   "outputs": [
    {
     "name": "stdout",
     "output_type": "stream",
     "text": [
      "xxxxxxxxxxxxxxxxxxx\n",
      "xxxxxxxxxxxxxxxxxx\n",
      "xxxxxxxxxxxxxxxxx\n",
      "xxxxxxxxxxxxxxxx\n",
      "xxxxxxxxxxxxxxx\n",
      "xxxxxxxxxxxxxx\n",
      "xxxxxxxxxxxxx\n",
      "xxxxxxxxxxxx\n",
      "xxxxxxxxxxx\n",
      "xxxxxxxxxx\n",
      "xxxxxxxxx\n",
      "xxxxxxxx\n",
      "xxxxxxx\n",
      "xxxxxx\n",
      "xxxxx\n",
      "xxxx\n",
      "xxx\n",
      "xx\n",
      "x\n"
     ]
    }
   ],
   "source": [
    "i = int(input(\"NUM : \"))\n",
    "while i>1:\n",
    "    i=i-1\n",
    "    print(i*'x')"
   ]
  },
  {
   "cell_type": "markdown",
   "id": "823f6a61",
   "metadata": {},
   "source": [
    "![method](method5.jpeg)"
   ]
  },
  {
   "cell_type": "code",
   "execution_count": null,
   "id": "0213d52e",
   "metadata": {},
   "outputs": [
    {
     "name": "stdout",
     "output_type": "stream",
     "text": [
      "ไม่ได้ส่วนลด = 500.0\n"
     ]
    }
   ],
   "source": [
    "ismember = input('ismember(yes/no): ')\n",
    "bill = float(input('bill: '))\n",
    "if ismember=='yes':\n",
    "    if bill>=5000:\n",
    "        print(f'-15% = {bill*(85/100)}')\n",
    "    elif bill>=1000:\n",
    "        print(f'-10% = {bill*(90/100)}')\n",
    "    elif bill>=500:\n",
    "        print(f'-5% = {bill*(95/100)}')\n",
    "else:\n",
    "    print('ไม่ได้ส่วนลด =',bill)"
   ]
  },
  {
   "cell_type": "markdown",
   "id": "13891206",
   "metadata": {},
   "source": [
    "![method](method6.jpeg)"
   ]
  },
  {
   "cell_type": "code",
   "execution_count": 86,
   "id": "da706296",
   "metadata": {},
   "outputs": [
    {
     "name": "stdout",
     "output_type": "stream",
     "text": [
      "โปรดใส่ข้อมูลที่ไม่ติดลบ\n"
     ]
    }
   ],
   "source": [
    "hour = int(input('hour: '))\n",
    "min = int(input('minute: '))\n",
    "if hour or min <= 0:\n",
    "    print('โปรดใส่ข้อมูลที่ไม่ติดลบ')\n",
    "else:\n",
    "    if hour==0:\n",
    "        print('ค่าที่จอดรถ 0 บาท')\n",
    "    elif hour==1:\n",
    "        if min==0:\n",
    "            print('ค่าที่จอดรถ 0 บาท')\n",
    "        else:\n",
    "            print('ค่าที่จอดรถ 30 บาท')\n",
    "    elif hour>1:\n",
    "        if min==0:\n",
    "            print(f'ค่าที่จอดรถ {(hour-1)*30} บาท')\n",
    "        else:\n",
    "            print(f'ค่าที่จอดรถ {(hour)*30} บาท')"
   ]
  },
  {
   "cell_type": "markdown",
   "id": "32e23faf",
   "metadata": {},
   "source": [
    "![method](method7.jpeg)"
   ]
  },
  {
   "cell_type": "code",
   "execution_count": 88,
   "id": "c661aed5",
   "metadata": {},
   "outputs": [
    {
     "name": "stdout",
     "output_type": "stream",
     "text": [
      "1.6666666666666667\n"
     ]
    }
   ],
   "source": [
    "num = float(input('number: '))\n",
    "if num<32:\n",
    "    print('cool')\n",
    "else:\n",
    "    print((5*(num-32))/9)"
   ]
  },
  {
   "cell_type": "markdown",
   "id": "0b4bf877",
   "metadata": {},
   "source": [
    "![method](method8.jpeg)"
   ]
  },
  {
   "cell_type": "code",
   "execution_count": null,
   "id": "3be70d94",
   "metadata": {},
   "outputs": [],
   "source": [
    "width = int(input('width: '))\n",
    "length = int(input('length: '))\n",
    "if width or length <= 0:\n",
    "    print('กรุณากรอกจำนวนเต็มบวก')\n",
    "else:\n",
    "    print(f\"Area : {width*length}\")"
   ]
  },
  {
   "cell_type": "markdown",
   "id": "857d3b9b",
   "metadata": {},
   "source": [
    "![method](method9.jpeg)"
   ]
  },
  {
   "cell_type": "code",
   "execution_count": 99,
   "id": "e05d9689",
   "metadata": {},
   "outputs": [],
   "source": [
    "def calculator(num1,num2,op):\n",
    "    error = 0\n",
    "    if op == '+':\n",
    "        ans = num1+num2\n",
    "    elif op == '-':\n",
    "        ans = num1-num2\n",
    "    elif op =='*':\n",
    "        ans = num1*num2\n",
    "    elif op =='/':\n",
    "        ans = num1/num2\n",
    "    else:\n",
    "        error = 1\n",
    "        ans = 0\n",
    "    return ans,error\n"
   ]
  },
  {
   "cell_type": "code",
   "execution_count": 100,
   "id": "081a6950",
   "metadata": {},
   "outputs": [
    {
     "name": "stdout",
     "output_type": "stream",
     "text": [
      "Error\n"
     ]
    }
   ],
   "source": [
    "try:\n",
    "    num1 = int(input('num1: '))\n",
    "    num2 = int(input('num2: '))\n",
    "    op = input('+,-,*,/ :')\n",
    "    answer,error = calculator(num1,num2,op)\n",
    "    if error == 1:\n",
    "        print(\"Error\")\n",
    "    else:\n",
    "        print(answer)  \n",
    "except ValueError:\n",
    "    print(\"Error\")"
   ]
  },
  {
   "cell_type": "markdown",
   "id": "085fbfaf",
   "metadata": {},
   "source": [
    "![method](method10.jpeg)"
   ]
  },
  {
   "cell_type": "code",
   "execution_count": null,
   "id": "e52eecdd",
   "metadata": {},
   "outputs": [],
   "source": [
    "def bmi(a,b):\n",
    "    ans = a/(b/100)**2\n",
    "    return ans"
   ]
  },
  {
   "cell_type": "code",
   "execution_count": null,
   "id": "5da95de9",
   "metadata": {},
   "outputs": [],
   "source": [
    "weight = int(input('น้ำหนัก: '))\n",
    "height = int(input('ความสูง: '))\n",
    "c = bmi(weight,height)\n",
    "print('bmi = %.2f'%c)"
   ]
  },
  {
   "cell_type": "markdown",
   "id": "56328bb0",
   "metadata": {},
   "source": [
    "![method](method11.png)"
   ]
  },
  {
   "cell_type": "code",
   "execution_count": 101,
   "id": "9e7d25fe",
   "metadata": {},
   "outputs": [],
   "source": [
    "menu = {'pizza':199,'cake':60,'water':15}"
   ]
  },
  {
   "cell_type": "code",
   "execution_count": 102,
   "id": "f5ecf4f9",
   "metadata": {},
   "outputs": [
    {
     "name": "stdout",
     "output_type": "stream",
     "text": [
      "pizza -> 199 baht\n"
     ]
    }
   ],
   "source": [
    "msg = input('อาหาร: ')\n",
    "print(f'{msg} -> {menu[msg]} baht')"
   ]
  },
  {
   "cell_type": "markdown",
   "id": "f692110b",
   "metadata": {},
   "source": [
    "![method](method12.png)"
   ]
  },
  {
   "cell_type": "code",
   "execution_count": null,
   "id": "a55d1f18",
   "metadata": {},
   "outputs": [],
   "source": [
    "constellations = ('ชวด','ฉลู','ขาล','เถาะ','มะโรง','มะเส็ง','มะเมีย','มะแม','วอก','ระกา','จอ','กุน')\n",
    "symbol = ('หนู','วัว','เสือ','กระต่าย','งูใหญ่','งูเล็ก','ม้า','แพะ','ลิง','ไก่','หมา','หมู')"
   ]
  },
  {
   "cell_type": "code",
   "execution_count": null,
   "id": "49011a0b",
   "metadata": {},
   "outputs": [],
   "source": [
    "msg = int(input('Year : '))\n",
    "a = int((msg + 5)%12)\n",
    "print(f'Year {msg} ตรงกับปีนักษัตร: {constellations[a]} >> สัญลักษณ์: {symbol[a]}')"
   ]
  },
  {
   "cell_type": "markdown",
   "id": "b85ac432",
   "metadata": {},
   "source": [
    "![method](method13.png)"
   ]
  },
  {
   "cell_type": "code",
   "execution_count": null,
   "id": "10921cfc",
   "metadata": {},
   "outputs": [
    {
     "name": "stdout",
     "output_type": "stream",
     "text": [
      "1\n",
      "1\n",
      "2\n",
      "2\n",
      "3\n",
      "3\n",
      "['a', 2, 'n', 2]\n"
     ]
    }
   ],
   "source": [
    "text = input(\"Text: \") #aann\n",
    "list_text = list(text)\n",
    "list_answer = []\n",
    "list_method = [list_text[0]]\n",
    "for i in range(1, len(list_text)):\n",
    "    if list_text[i] == list_text[i-1]:\n",
    "        list_method.append(list_text[i])\n",
    "    else:\n",
    "        list_answer.append(list_method[0])\n",
    "        list_answer.append(len(list_method))\n",
    "        list_method = [list_text[i]]\n",
    "list_answer.append(list_method[0])\n",
    "list_answer.append(len(list_method))\n",
    "print(list_answer)\n"
   ]
  },
  {
   "cell_type": "markdown",
   "id": "c82ee5f6",
   "metadata": {},
   "source": [
    "![method](method14.png)"
   ]
  },
  {
   "cell_type": "code",
   "execution_count": 148,
   "id": "568f6389",
   "metadata": {},
   "outputs": [
    {
     "name": "stdout",
     "output_type": "stream",
     "text": [
      "No Data\n"
     ]
    }
   ],
   "source": [
    "list_num = []\n",
    "while True:\n",
    "    num = input(\"num: \")\n",
    "    if num == 'q':\n",
    "        break\n",
    "    else:\n",
    "        list_num.append(float(num))\n",
    "if len(list_num) > 0:\n",
    "    mean = sum(list_num)/len(list_num)\n",
    "    print('mean = %.2f'%mean)\n",
    "else:\n",
    "    print(\"No Data\")"
   ]
  },
  {
   "cell_type": "markdown",
   "id": "b2b660ac",
   "metadata": {},
   "source": [
    "![method](method15.png)"
   ]
  },
  {
   "cell_type": "code",
   "execution_count": 202,
   "id": "a6832b04",
   "metadata": {},
   "outputs": [
    {
     "name": "stdout",
     "output_type": "stream",
     "text": [
      "       *\n",
      "      * *\n",
      "     *   *\n",
      "    *     *\n",
      "   *       *\n",
      "  *         *\n",
      " *           *\n",
      "***************\n"
     ]
    }
   ],
   "source": [
    "num = int(input(\"num : \"))\n",
    "print(\" \"*(num-1)+\"*\")\n",
    "for i in range(1,num-1):\n",
    "    print(\" \"*(num-i-1) + \"*\" +\" \"*((i*2)-1) + \"*\" )\n",
    "print(\"*\"*((num*2)-1))"
   ]
  },
  {
   "cell_type": "markdown",
   "id": "9466e1e1",
   "metadata": {},
   "source": [
    "![method](method17.png)"
   ]
  },
  {
   "cell_type": "code",
   "execution_count": 245,
   "id": "354e5b0e",
   "metadata": {},
   "outputs": [
    {
     "name": "stdout",
     "output_type": "stream",
     "text": [
      "X--------X\n",
      "-X------X-\n",
      "--X----X--\n",
      "---X--X---\n",
      "----XX----\n",
      "---X--X---\n",
      "--X----X--\n",
      "-X------X-\n",
      "X--------X\n"
     ]
    }
   ],
   "source": [
    "num = int(input(\"num : \"))\n",
    "if num%2 == 0:\n",
    "    for i in range(1,int(num/2)):\n",
    "        print(\"-\"*(i-1) + \"X\" + \"-\"*(num-(i*2)) + \"X\" + \"-\"*(i-1))\n",
    "    for i in range(int(num/2),0,-1):\n",
    "        print(\"-\"*(i-1) + \"X\" + \"-\"*(num-(i*2)) + \"X\" + \"-\"*(i-1))\n",
    "else:\n",
    "    for i in range(1,int(num/2)+1):\n",
    "        print(\"-\"*(i-1) + \"X\" + \"-\"*(num-(i*2)) + \"X\" + \"-\"*(i-1))\n",
    "    print(\"-\"*(int(num/2)) + \"X\" + \"-\"*(int(num/2)))\n",
    "    for i in range(int(num/2),0,-1):\n",
    "        print(\"-\"*(i-1) + \"X\" + \"-\"*(num-(i*2)) + \"X\" + \"-\"*(i-1))"
   ]
  }
 ],
 "metadata": {
  "kernelspec": {
   "display_name": "3.10",
   "language": "python",
   "name": "python3"
  },
  "language_info": {
   "codemirror_mode": {
    "name": "ipython",
    "version": 3
   },
   "file_extension": ".py",
   "mimetype": "text/x-python",
   "name": "python",
   "nbconvert_exporter": "python",
   "pygments_lexer": "ipython3",
   "version": "3.10.16"
  }
 },
 "nbformat": 4,
 "nbformat_minor": 5
}
